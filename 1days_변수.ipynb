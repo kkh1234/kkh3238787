{
 "cells": [
  {
   "cell_type": "markdown",
   "id": "c9ead7bb",
   "metadata": {},
   "source": [
    "### 변수\n",
    "- 변하는 수"
   ]
  },
  {
   "cell_type": "code",
   "execution_count": 4,
   "id": "b3b842b1",
   "metadata": {},
   "outputs": [
    {
     "data": {
      "text/plain": [
       "3"
      ]
     },
     "execution_count": 4,
     "metadata": {},
     "output_type": "execute_result"
    }
   ],
   "source": [
    "1+2"
   ]
  },
  {
   "cell_type": "code",
   "execution_count": 5,
   "id": "7bea514b",
   "metadata": {},
   "outputs": [
    {
     "name": "stdout",
     "output_type": "stream",
     "text": [
      "안녕하세요\n"
     ]
    }
   ],
   "source": [
    " print(\"안녕하세요\")"
   ]
  },
  {
   "cell_type": "code",
   "execution_count": 6,
   "id": "a22cea74",
   "metadata": {},
   "outputs": [
    {
     "data": {
      "text/plain": [
       "3"
      ]
     },
     "execution_count": 6,
     "metadata": {},
     "output_type": "execute_result"
    }
   ],
   "source": [
    "a=3\n",
    "a"
   ]
  },
  {
   "cell_type": "code",
   "execution_count": 7,
   "id": "f6c36bc9",
   "metadata": {},
   "outputs": [
    {
     "data": {
      "text/plain": [
       "'python'"
      ]
     },
     "execution_count": 7,
     "metadata": {},
     "output_type": "execute_result"
    }
   ],
   "source": [
    "p=\"python\"\n",
    "p"
   ]
  },
  {
   "cell_type": "code",
   "execution_count": 8,
   "id": "13ba84e5",
   "metadata": {},
   "outputs": [],
   "source": [
    "a,b=3,4"
   ]
  },
  {
   "cell_type": "code",
   "execution_count": 9,
   "id": "5b6ae9da",
   "metadata": {},
   "outputs": [
    {
     "name": "stdout",
     "output_type": "stream",
     "text": [
      "3 4\n"
     ]
    }
   ],
   "source": [
    "print(a,b)"
   ]
  },
  {
   "cell_type": "code",
   "execution_count": 10,
   "id": "fe91fd5e",
   "metadata": {},
   "outputs": [
    {
     "name": "stdout",
     "output_type": "stream",
     "text": [
      "7\n"
     ]
    }
   ],
   "source": [
    "print(a+b)"
   ]
  },
  {
   "cell_type": "code",
   "execution_count": 11,
   "id": "ae952c89",
   "metadata": {},
   "outputs": [
    {
     "ename": "TypeError",
     "evalue": "can only concatenate str (not \"int\") to str",
     "output_type": "error",
     "traceback": [
      "\u001b[1;31m---------------------------------------------------------------------------\u001b[0m",
      "\u001b[1;31mTypeError\u001b[0m                                 Traceback (most recent call last)",
      "\u001b[1;32mC:\\Users\\ADMINI~1\\AppData\\Local\\Temp/ipykernel_3392/1676732350.py\u001b[0m in \u001b[0;36m<module>\u001b[1;34m\u001b[0m\n\u001b[1;32m----> 1\u001b[1;33m \u001b[0mp\u001b[0m\u001b[1;33m+\u001b[0m\u001b[0ma\u001b[0m\u001b[1;33m\u001b[0m\u001b[1;33m\u001b[0m\u001b[0m\n\u001b[0m",
      "\u001b[1;31mTypeError\u001b[0m: can only concatenate str (not \"int\") to str"
     ]
    }
   ],
   "source": [
    "p+a"
   ]
  },
  {
   "cell_type": "code",
   "execution_count": 12,
   "id": "432d3512",
   "metadata": {},
   "outputs": [],
   "source": [
    "h=\"hello\"\n",
    "p=\"python\""
   ]
  },
  {
   "cell_type": "code",
   "execution_count": 15,
   "id": "c3216d4f",
   "metadata": {},
   "outputs": [
    {
     "name": "stdout",
     "output_type": "stream",
     "text": [
      "hello python\n"
     ]
    }
   ],
   "source": [
    "print(h+\" \"+p)"
   ]
  },
  {
   "cell_type": "code",
   "execution_count": 18,
   "id": "81c95569",
   "metadata": {},
   "outputs": [],
   "source": [
    "num1=100\n",
    "num2=50\n",
    "sum=num1+num2"
   ]
  },
  {
   "cell_type": "code",
   "execution_count": 21,
   "id": "bce0fb1b",
   "metadata": {},
   "outputs": [
    {
     "name": "stdout",
     "output_type": "stream",
     "text": [
      "150\n"
     ]
    }
   ],
   "source": [
    "print(sum)"
   ]
  },
  {
   "cell_type": "code",
   "execution_count": 25,
   "id": "90b5d0a5",
   "metadata": {},
   "outputs": [
    {
     "name": "stdout",
     "output_type": "stream",
     "text": [
      "3\n",
      "4\n"
     ]
    }
   ],
   "source": [
    "print(a)\n",
    "print(b)"
   ]
  },
  {
   "cell_type": "code",
   "execution_count": 29,
   "id": "05a61520",
   "metadata": {},
   "outputs": [
    {
     "name": "stdout",
     "output_type": "stream",
     "text": [
      "3 \n",
      " 4\n"
     ]
    }
   ],
   "source": [
    "# \\n: 줄바꿈\n",
    "print(a,\"\\n\",b)"
   ]
  },
  {
   "cell_type": "code",
   "execution_count": 30,
   "id": "300bee07",
   "metadata": {},
   "outputs": [
    {
     "data": {
      "text/plain": [
       "'python is very fun, i am happy'"
      ]
     },
     "execution_count": 30,
     "metadata": {},
     "output_type": "execute_result"
    }
   ],
   "source": [
    "s=\"python is very fun, i am happy\"\n",
    "s"
   ]
  },
  {
   "cell_type": "code",
   "execution_count": 31,
   "id": "ea1b9d5d",
   "metadata": {},
   "outputs": [
    {
     "data": {
      "text/plain": [
       "'python is very fun \\n , i am happy'"
      ]
     },
     "execution_count": 31,
     "metadata": {},
     "output_type": "execute_result"
    }
   ],
   "source": [
    "s=\"python is very fun \\n , i am happy\"\n",
    "s"
   ]
  },
  {
   "cell_type": "code",
   "execution_count": 38,
   "id": "222f4f63",
   "metadata": {},
   "outputs": [
    {
     "name": "stdout",
     "output_type": "stream",
     "text": [
      "학번: 224621 이름: 김근환 학과 인공지능학부\n"
     ]
    }
   ],
   "source": [
    "# 학번, 이름, 학과 출력\n",
    "stuNum=224621\n",
    "name=\"김근환\"\n",
    "dep=\"인공지능학부\"\n",
    "print(\"학번:\",stuNum,\"이름:\",name,\"학과\",dep)"
   ]
  },
  {
   "cell_type": "code",
   "execution_count": 44,
   "id": "0f426f19",
   "metadata": {},
   "outputs": [
    {
     "name": "stdout",
     "output_type": "stream",
     "text": [
      "3 과 4 의 합은 7 입니다\n"
     ]
    }
   ],
   "source": [
    "a=3\n",
    "b=4\n",
    "sum=a+b\n",
    "print(a,\"과\",b,\"의 합은\",sum,\"입니다\") #3과 4의 합은 7입니다"
   ]
  },
  {
   "cell_type": "code",
   "execution_count": 46,
   "id": "946b36af",
   "metadata": {},
   "outputs": [
    {
     "data": {
      "text/plain": [
       "-1"
      ]
     },
     "execution_count": 46,
     "metadata": {},
     "output_type": "execute_result"
    }
   ],
   "source": [
    "값=a-b\n",
    "값"
   ]
  },
  {
   "cell_type": "code",
   "execution_count": 48,
   "id": "bc2ef6a4",
   "metadata": {},
   "outputs": [
    {
     "data": {
      "text/plain": [
       "12"
      ]
     },
     "execution_count": 48,
     "metadata": {},
     "output_type": "execute_result"
    }
   ],
   "source": [
    "result=a*b  # * = 곱하기\n",
    "result"
   ]
  },
  {
   "cell_type": "code",
   "execution_count": 50,
   "id": "7e3ad1fa",
   "metadata": {},
   "outputs": [
    {
     "data": {
      "text/plain": [
       "0.75"
      ]
     },
     "execution_count": 50,
     "metadata": {},
     "output_type": "execute_result"
    }
   ],
   "source": [
    "result=a/b  #/ = 나누기\n",
    "result"
   ]
  },
  {
   "cell_type": "code",
   "execution_count": 51,
   "id": "7ec7162b",
   "metadata": {},
   "outputs": [
    {
     "name": "stdout",
     "output_type": "stream",
     "text": [
      "2\n"
     ]
    }
   ],
   "source": [
    "# % = 나머지 연산자\n",
    "print(10%4)"
   ]
  },
  {
   "cell_type": "code",
   "execution_count": 58,
   "id": "a2543857",
   "metadata": {},
   "outputs": [
    {
     "name": "stdout",
     "output_type": "stream",
     "text": [
      "8\n"
     ]
    }
   ],
   "source": [
    "# ** = 거듭제곰\n",
    "print(2**3)"
   ]
  },
  {
   "cell_type": "markdown",
   "id": "3f8f9320",
   "metadata": {},
   "source": [
    "### input()함수\n",
    "- 사용자에게키보드로부터 값을 입력받는 함수"
   ]
  },
  {
   "cell_type": "code",
   "execution_count": 60,
   "id": "7214a32e",
   "metadata": {},
   "outputs": [
    {
     "name": "stdout",
     "output_type": "stream",
     "text": [
      "100\n"
     ]
    },
    {
     "data": {
      "text/plain": [
       "'100'"
      ]
     },
     "execution_count": 60,
     "metadata": {},
     "output_type": "execute_result"
    }
   ],
   "source": [
    "input()"
   ]
  },
  {
   "cell_type": "code",
   "execution_count": 63,
   "id": "28cd9ae7",
   "metadata": {},
   "outputs": [
    {
     "name": "stdout",
     "output_type": "stream",
     "text": [
      "100\n"
     ]
    }
   ],
   "source": [
    "a=input()"
   ]
  },
  {
   "cell_type": "code",
   "execution_count": 64,
   "id": "39d3825c",
   "metadata": {},
   "outputs": [
    {
     "data": {
      "text/plain": [
       "'100'"
      ]
     },
     "execution_count": 64,
     "metadata": {},
     "output_type": "execute_result"
    }
   ],
   "source": [
    "a"
   ]
  },
  {
   "cell_type": "code",
   "execution_count": 65,
   "id": "82286c32",
   "metadata": {},
   "outputs": [
    {
     "data": {
      "text/plain": [
       "str"
      ]
     },
     "execution_count": 65,
     "metadata": {},
     "output_type": "execute_result"
    }
   ],
   "source": [
    "type(a)"
   ]
  },
  {
   "cell_type": "code",
   "execution_count": 79,
   "id": "5e9bed35",
   "metadata": {},
   "outputs": [
    {
     "data": {
      "text/plain": [
       "100"
      ]
     },
     "execution_count": 79,
     "metadata": {},
     "output_type": "execute_result"
    }
   ],
   "source": [
    "int(a) # 정수로 변환"
   ]
  },
  {
   "cell_type": "code",
   "execution_count": 70,
   "id": "43ab0df9",
   "metadata": {},
   "outputs": [
    {
     "data": {
      "text/plain": [
       "int"
      ]
     },
     "execution_count": 70,
     "metadata": {},
     "output_type": "execute_result"
    }
   ],
   "source": [
    "type(int(a))"
   ]
  },
  {
   "cell_type": "code",
   "execution_count": 71,
   "id": "e35ad3d8",
   "metadata": {},
   "outputs": [
    {
     "name": "stdout",
     "output_type": "stream",
     "text": [
      "100\n",
      "200\n"
     ]
    }
   ],
   "source": [
    "a=input()\n",
    "b=input()"
   ]
  },
  {
   "cell_type": "code",
   "execution_count": 73,
   "id": "6226080e",
   "metadata": {},
   "outputs": [
    {
     "data": {
      "text/plain": [
       "str"
      ]
     },
     "execution_count": 73,
     "metadata": {},
     "output_type": "execute_result"
    }
   ],
   "source": [
    "type(a)"
   ]
  },
  {
   "cell_type": "code",
   "execution_count": 74,
   "id": "f8f203d0",
   "metadata": {},
   "outputs": [
    {
     "name": "stdout",
     "output_type": "stream",
     "text": [
      "100200\n"
     ]
    }
   ],
   "source": [
    "print(a+b)"
   ]
  },
  {
   "cell_type": "code",
   "execution_count": 82,
   "id": "7c38c120",
   "metadata": {},
   "outputs": [
    {
     "name": "stdout",
     "output_type": "stream",
     "text": [
      "첫번째 수 입력: 100\n",
      "두번째 수 입력: 200\n",
      "합계: 300\n"
     ]
    }
   ],
   "source": [
    "a=int(input(\"첫번째 수 입력: \"))\n",
    "b=int(input(\"두번째 수 입력: \"))\n",
    "print(\"합계:\", a+b)"
   ]
  },
  {
   "cell_type": "markdown",
   "id": "ba54183f",
   "metadata": {},
   "source": [
    "- 학번 이름 입력받기"
   ]
  },
  {
   "cell_type": "code",
   "execution_count": null,
   "id": "7aa1ce77",
   "metadata": {},
   "outputs": [],
   "source": [
    "stuNum=input(\"학번:\")\n",
    "name=input(\"이름:\")\n",
    "print(\"학번:\",stuNum,\"이름\",name)"
   ]
  },
  {
   "cell_type": "code",
   "execution_count": null,
   "id": "36907800",
   "metadata": {},
   "outputs": [],
   "source": [
    "stuNum=input(\"학번:\")\n",
    "name=input(\"이름:\")\n",
    "print(\"학번:\",stuNum,\"이름\",name)"
   ]
  },
  {
   "cell_type": "code",
   "execution_count": null,
   "id": "2bccbde9",
   "metadata": {},
   "outputs": [],
   "source": [
    "stuNum=input(\"학번:\")\n",
    "name=input(\"이름:\")\n",
    "print(\"학번:\",stuNum,\"이름:\",name)"
   ]
  },
  {
   "cell_type": "code",
   "execution_count": null,
   "id": "f401c4dd",
   "metadata": {},
   "outputs": [],
   "source": []
  }
 ],
 "metadata": {
  "kernelspec": {
   "display_name": "Python 3 (ipykernel)",
   "language": "python",
   "name": "python3"
  },
  "language_info": {
   "codemirror_mode": {
    "name": "ipython",
    "version": 3
   },
   "file_extension": ".py",
   "mimetype": "text/x-python",
   "name": "python",
   "nbconvert_exporter": "python",
   "pygments_lexer": "ipython3",
   "version": "3.9.7"
  }
 },
 "nbformat": 4,
 "nbformat_minor": 5
}
